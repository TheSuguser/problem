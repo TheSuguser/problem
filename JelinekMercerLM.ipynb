{
 "cells": [
  {
   "cell_type": "code",
   "execution_count": 1,
   "metadata": {},
   "outputs": [],
   "source": [
    "#! SETUP 1\n",
    "import sys, os\n",
    "_snlp_book_dir = \"../../../../\"\n",
    "sys.path.append(_snlp_book_dir) \n",
    "import statnlpbook.lm as lm\n",
    "import statnlpbook.ohhla as ohhla\n",
    "import math\n",
    "import numpy as np\n",
    "import matplotlib.pyplot as plt\n",
    "import collections"
   ]
  },
  {
   "cell_type": "code",
   "execution_count": 2,
   "metadata": {},
   "outputs": [
    {
     "name": "stdout",
     "output_type": "stream",
     "text": [
      "Could not load ../../../..//data/ohhla/train/www.ohhla.com/anonymous/nas/distant/tribal.nas.txt.html\n"
     ]
    }
   ],
   "source": [
    "#! SETUP 2\n",
    "_snlp_train_dir = _snlp_book_dir + \"/data/ohhla/train\"\n",
    "_snlp_dev_dir = _snlp_book_dir + \"/data/ohhla/dev\"\n",
    "_snlp_train_song_words = ohhla.words(ohhla.load_all_songs(_snlp_train_dir))\n",
    "_snlp_dev_song_words = ohhla.words(ohhla.load_all_songs(_snlp_dev_dir))\n",
    "assert(len(_snlp_train_song_words)==1041496)"
   ]
  },
  {
   "cell_type": "code",
   "execution_count": 3,
   "metadata": {},
   "outputs": [],
   "source": [
    "class JelinekMercerLM(lm.LanguageModel):\n",
    "    def __init__(self, unigram, alpha1, bigram, alpha2, trigram, alpha3, fourgram):\n",
    "        super().__init__(unigram.vocab, fourgram.order)\n",
    "        self.unigram = unigram\n",
    "        self.bigram = bigram\n",
    "        self.trigram  = trigram\n",
    "        self.fourgram = fourgram\n",
    "        self.alpha1 = alpha1\n",
    "        self.alpha2 = alpha2\n",
    "        self.alpha3 = alpha3\n",
    "        self.alpha4 = 1 - (alpha1 + alpha2 + alpha3)\n",
    "\n",
    "    def probability(self, word, *history):\n",
    "\n",
    "        return self.alpha1 * self.unigram.probability(word, *history) + \\\n",
    "               self.alpha2 * self.bigram.probability(word, * history) + \\\n",
    "               self.alpha3 * self.trigram.probability(word, *history) + \\\n",
    "               self.alpha4 * self.fourgram.probability(word, *history) "
   ]
  },
  {
   "cell_type": "code",
   "execution_count": 20,
   "metadata": {},
   "outputs": [],
   "source": [
    "oov_train = lm.inject_OOVs(_snlp_train_song_words)\n",
    "bigram = lm.NGramLM(oov_train, 2)\n",
    "unigram = lm.NGramLM(oov_train,1)\n",
    "trigram = lm.NGramLM(oov_train,3)\n",
    "fourgram = lm.NGramLM(oov_train,4)\n",
    "oov_vocab = set(oov_train)\n",
    "vocab = set(_snlp_train_song_words) | set(_snlp_dev_song_words)\n",
    "my_LM = JelinekMercerLM(unigram, 0.24, bigram, 0.56, trigram, 0.18, fourgram)\n"
   ]
  },
  {
   "cell_type": "code",
   "execution_count": 23,
   "metadata": {},
   "outputs": [
    {
     "data": {
      "text/plain": [
       "159.74151561586498"
      ]
     },
     "execution_count": 23,
     "metadata": {},
     "output_type": "execute_result"
    }
   ],
   "source": [
    "lm.perplexity(lm.OOVAwareLM(my_LM, vocab - oov_vocab), _snlp_dev_song_words)"
   ]
  },
  {
   "cell_type": "code",
   "execution_count": 49,
   "metadata": {},
   "outputs": [],
   "source": [
    "alpha1 = np.linspace(0.2,0.26,5)\n",
    "alpha2 = np.linspace(0.43,0.53,5)\n",
    "alpha3 = np.linspace(0.1,0.2,5)\n",
    "\n",
    "perplexity_dic = collections.defaultdict(float)"
   ]
  },
  {
   "cell_type": "code",
   "execution_count": 50,
   "metadata": {},
   "outputs": [
    {
     "name": "stdout",
     "output_type": "stream",
     "text": [
      "[ 0.2    0.215  0.23   0.245  0.26 ]\n"
     ]
    }
   ],
   "source": [
    "print(alpha1)"
   ]
  },
  {
   "cell_type": "code",
   "execution_count": 51,
   "metadata": {},
   "outputs": [
    {
     "name": "stdout",
     "output_type": "stream",
     "text": [
      "0.2 0.43 0.1\n",
      "161.8854736049674\n",
      "0.2 0.43 0.125\n",
      "160.64619110468198\n",
      "0.2 0.43 0.15\n",
      "159.68641222595102\n",
      "0.2 0.43 0.175\n",
      "158.97675506774817\n",
      "0.2 0.43 0.2\n",
      "158.50572938867484\n",
      "0.2 0.455 0.1\n",
      "160.2589846303951\n",
      "0.2 0.455 0.125\n",
      "159.1763346464395\n",
      "0.2 0.455 0.15\n",
      "158.37555028238447\n",
      "0.2 0.455 0.175\n",
      "157.83433759671888\n",
      "0.2 0.455 0.2\n",
      "157.55003962432104\n",
      "0.2 0.48 0.1\n",
      "158.91851965583962\n",
      "0.2 0.48 0.125\n",
      "157.99908827252867\n",
      "0.2 0.48 0.15\n",
      "157.3699789581885\n",
      "0.2 0.48 0.175\n",
      "157.0182650625239\n",
      "0.2 0.48 0.2\n",
      "156.95453335175307\n",
      "0.2 0.505 0.1\n",
      "157.86590021474728\n",
      "0.2 0.505 0.125\n",
      "157.1224617868283\n",
      "0.2 0.505 0.15\n",
      "156.68641242253528\n",
      "0.2 0.505 0.175\n",
      "156.55862422407012\n",
      "0.2 0.505 0.2\n",
      "156.7719824401184\n",
      "0.2 0.53 0.1\n",
      "157.1124723925157\n",
      "0.2 0.53 0.125\n",
      "156.56670987428322\n",
      "0.2 0.53 0.15\n",
      "156.35877586514573\n",
      "0.2 0.53 0.175\n",
      "156.51251016573661\n",
      "0.2 0.53 0.2\n",
      "157.10407057588554\n",
      "0.215 0.43 0.1\n",
      "160.89832628567672\n",
      "0.215 0.43 0.125\n",
      "159.71885570504773\n",
      "0.215 0.43 0.15\n",
      "158.82305167792913\n",
      "0.215 0.43 0.175\n",
      "158.1845676078505\n",
      "0.215 0.43 0.2\n",
      "157.79600913247825\n",
      "0.215 0.455 0.1\n",
      "159.36901644329976\n",
      "0.215 0.455 0.125\n",
      "158.3518403093854\n",
      "0.215 0.455 0.15\n",
      "157.62345242134387\n",
      "0.215 0.455 0.175\n",
      "157.1658218076048\n",
      "0.215 0.455 0.2\n",
      "156.98262906461375\n",
      "0.215 0.48 0.1\n",
      "158.1322203577096\n",
      "0.215 0.48 0.125\n",
      "157.28678423192102\n",
      "0.215 0.48 0.15\n",
      "156.7426731448502\n",
      "0.215 0.48 0.175\n",
      "156.49348586803572\n",
      "0.215 0.48 0.2\n",
      "156.56058281950595\n",
      "0.215 0.505 0.1\n",
      "157.19376805065926\n",
      "0.215 0.505 0.125\n",
      "156.5371275898731\n",
      "0.215 0.505 0.15\n",
      "156.20536428474472\n",
      "0.215 0.505 0.175\n",
      "156.21037469556174\n",
      "0.215 0.505 0.2\n",
      "156.6056795098673\n",
      "0.215 0.53 0.1\n",
      "156.57072933026092\n",
      "0.215 0.53 0.125\n",
      "156.13143229598262\n",
      "0.215 0.53 0.15\n",
      "156.058687152326\n",
      "0.215 0.53 0.175\n",
      "156.39739842311928\n",
      "0.215 0.53 0.2\n",
      "157.27058758051226\n",
      "0.23 0.43 0.1\n",
      "160.0838883670798\n",
      "0.23 0.43 0.125\n",
      "158.96707030804566\n",
      "0.23 0.43 0.15\n",
      "158.1397571642734\n",
      "0.23 0.43 0.175\n",
      "157.579268388746\n",
      "0.23 0.43 0.2\n",
      "157.28345612215026\n",
      "0.23 0.455 0.1\n",
      "158.6554463933984\n",
      "0.23 0.455 0.125\n",
      "157.7082048741077\n",
      "0.23 0.455 0.15\n",
      "157.0590496963483\n",
      "0.23 0.455 0.175\n",
      "156.69536525089825\n",
      "0.23 0.455 0.2\n",
      "156.6293952713632\n",
      "0.23 0.48 0.1\n",
      "157.5282915330005\n",
      "0.23 0.48 0.125\n",
      "156.7636867578489\n",
      "0.23 0.48 0.15\n",
      "156.3150315308384\n",
      "0.23 0.48 0.175\n",
      "156.18469748886832\n",
      "0.23 0.48 0.2\n",
      "156.4095964864984\n",
      "0.23 0.505 0.1\n",
      "156.7131855653495\n",
      "0.23 0.505 0.125\n",
      "156.15389493243174\n",
      "0.23 0.505 0.15\n",
      "155.94298534071186\n",
      "0.23 0.505 0.175\n",
      "156.10823045451883\n",
      "0.23 0.505 0.2\n",
      "156.7357954565412\n",
      "0.23 0.53 0.1\n",
      "156.23454558246326\n",
      "0.23 0.53 0.125\n",
      "155.9185515790749\n",
      "0.23 0.53 0.15\n",
      "156.00897538608456\n",
      "0.23 0.53 0.175\n",
      "156.5840389746613\n",
      "0.23 0.53 0.2\n",
      "157.8527792019734\n",
      "0.245 0.43 0.1\n",
      "159.43016734473224\n",
      "0.245 0.43 0.125\n",
      "158.37986714012357\n",
      "0.245 0.43 0.15\n",
      "157.6269442094222\n",
      "0.245 0.43 0.175\n",
      "157.15328682993598\n",
      "0.245 0.43 0.2\n",
      "156.9636850024228\n",
      "0.245 0.455 0.1\n",
      "158.1077013181652\n",
      "0.245 0.455 0.125\n",
      "157.23627830403632\n",
      "0.245 0.455 0.15\n",
      "156.67525518290753\n",
      "0.245 0.455 0.175\n",
      "156.41913533649625\n",
      "0.245 0.455 0.2\n",
      "156.49218354940038\n",
      "0.245 0.48 0.1\n",
      "157.0980631710796\n",
      "0.245 0.48 0.125\n",
      "156.4232486318655\n",
      "0.245 0.48 0.15\n",
      "156.08384445714208\n",
      "0.245 0.48 0.175\n",
      "156.09450035787572\n",
      "0.245 0.48 0.2\n",
      "156.51575400519937\n",
      "0.245 0.505 0.1\n",
      "156.41823248269827\n",
      "0.245 0.505 0.125\n",
      "155.9702814571645\n",
      "0.245 0.505 0.15\n",
      "155.90276234926196\n",
      "0.245 0.505 0.175\n",
      "156.2675504289411\n",
      "0.245 0.505 0.2\n",
      "157.20669943560253\n",
      "0.245 0.53 0.1\n",
      "156.10232174901364\n",
      "0.245 0.53 0.125\n",
      "155.93262939615101\n",
      "0.245 0.53 0.15\n",
      "156.22642784623338\n",
      "0.245 0.53 0.175\n",
      "157.1190334674892\n",
      "0.245 0.53 0.2\n",
      "159.00374196831407\n",
      "0.26 0.43 0.1\n",
      "158.9287562188279\n",
      "0.26 0.43 0.125\n",
      "157.95006442802787\n",
      "0.26 0.43 0.15\n",
      "157.27916743233115\n",
      "0.26 0.43 0.175\n",
      "156.90383530870395\n",
      "0.26 0.43 0.2\n",
      "156.8383587730517\n",
      "0.26 0.455 0.1\n",
      "157.71903825738397\n",
      "0.26 0.455 0.125\n",
      "156.9311017476373\n",
      "0.26 0.455 0.15\n",
      "156.46983243561493\n",
      "0.26 0.455 0.175\n",
      "156.33944496824822\n",
      "0.26 0.455 0.2\n",
      "156.58185128478792\n",
      "0.26 0.48 0.1\n",
      "156.83713637808347\n",
      "0.26 0.48 0.125\n",
      "156.26387142571184\n",
      "0.26 0.48 0.15\n",
      "156.05218179420132\n",
      "0.26 0.48 0.175\n",
      "156.23471576192426\n",
      "0.26 0.48 0.2\n",
      "156.91031197782738\n",
      "0.26 0.505 0.1\n",
      "156.30807748618201\n",
      "0.26 0.505 0.125\n",
      "155.990267641134\n",
      "0.26 0.505 0.15\n",
      "156.09767684785984\n",
      "0.26 0.505 0.175\n",
      "156.7212689262952\n",
      "0.26 0.505 0.2\n",
      "158.1102686327157\n",
      "0.26 0.53 0.1\n",
      "156.179174533216\n",
      "0.26 0.53 0.125\n",
      "156.18808604570896\n",
      "0.26 0.53 0.15\n",
      "156.74604475524725\n",
      "0.26 0.53 0.175\n",
      "158.0980599538935\n",
      "0.26 0.53 0.2\n",
      "161.1704548247664\n"
     ]
    }
   ],
   "source": [
    "for i in alpha1:\n",
    "    for j in alpha2:\n",
    "        for k in alpha3:\n",
    "            print(i,j,k)\n",
    "            my_LM = JelinekMercerLM(unigram, i, bigram, j, trigram, k, fourgram)\n",
    "            ppl = lm.perplexity(lm.OOVAwareLM(my_LM,vocab - oov_vocab), _snlp_dev_song_words)\n",
    "            if ppl is not \"inf\":\n",
    "                perplexity_dic[ppl] = [i,j,k]\n",
    "            print(ppl)"
   ]
  },
  {
   "cell_type": "code",
   "execution_count": 28,
   "metadata": {},
   "outputs": [],
   "source": [
    "import heapq"
   ]
  },
  {
   "cell_type": "code",
   "execution_count": 52,
   "metadata": {},
   "outputs": [
    {
     "data": {
      "text/plain": [
       "[155.90276234926196,\n",
       " 155.9185515790749,\n",
       " 155.93262939615101,\n",
       " 155.94298534071186,\n",
       " 155.9702814571645]"
      ]
     },
     "execution_count": 52,
     "metadata": {},
     "output_type": "execute_result"
    }
   ],
   "source": [
    "max_keys = heapq.nsmallest(5, perplexity_dic)\n",
    "max_keys"
   ]
  },
  {
   "cell_type": "code",
   "execution_count": 53,
   "metadata": {},
   "outputs": [
    {
     "name": "stdout",
     "output_type": "stream",
     "text": [
      "[0.245, 0.505, 0.15000000000000002]\n",
      "[0.23000000000000001, 0.53000000000000003, 0.125]\n",
      "[0.245, 0.53000000000000003, 0.125]\n",
      "[0.23000000000000001, 0.505, 0.15000000000000002]\n",
      "[0.245, 0.505, 0.125]\n"
     ]
    }
   ],
   "source": [
    "for key in max_keys:\n",
    "    print(perplexity_dic[key])"
   ]
  },
  {
   "cell_type": "code",
   "execution_count": null,
   "metadata": {},
   "outputs": [],
   "source": []
  }
 ],
 "metadata": {
  "kernelspec": {
   "display_name": "Python 3",
   "language": "python",
   "name": "python3"
  },
  "language_info": {
   "codemirror_mode": {
    "name": "ipython",
    "version": 3
   },
   "file_extension": ".py",
   "mimetype": "text/x-python",
   "name": "python",
   "nbconvert_exporter": "python",
   "pygments_lexer": "ipython3",
   "version": "3.6.2"
  }
 },
 "nbformat": 4,
 "nbformat_minor": 2
}
